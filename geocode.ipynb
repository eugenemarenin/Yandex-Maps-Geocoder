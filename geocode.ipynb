{
 "cells": [
  {
   "cell_type": "markdown",
   "metadata": {},
   "source": [
    "## FORKED FROM https://github.com/bella-mir/geocode-mapbox-api/blob/main/fun_geocode.ipynb"
   ]
  },
  {
   "cell_type": "markdown",
   "metadata": {},
   "source": [
    "# GEOCODE AND FUN"
   ]
  },
  {
   "cell_type": "code",
   "execution_count": 1,
   "metadata": {},
   "outputs": [
    {
     "name": "stdout",
     "output_type": "stream",
     "text": [
      "Requirement already satisfied: geopandas in c:\\programdata\\anaconda3\\lib\\site-packages (0.14.3)Note: you may need to restart the kernel to use updated packages.\n",
      "\n",
      "Requirement already satisfied: fiona>=1.8.21 in c:\\programdata\\anaconda3\\lib\\site-packages (from geopandas) (1.9.5)\n",
      "Requirement already satisfied: packaging in c:\\programdata\\anaconda3\\lib\\site-packages (from geopandas) (23.1)\n",
      "Requirement already satisfied: pandas>=1.4.0 in c:\\programdata\\anaconda3\\lib\\site-packages (from geopandas) (2.0.3)\n",
      "Requirement already satisfied: pyproj>=3.3.0 in c:\\programdata\\anaconda3\\lib\\site-packages (from geopandas) (3.6.1)\n",
      "Requirement already satisfied: shapely>=1.8.0 in c:\\programdata\\anaconda3\\lib\\site-packages (from geopandas) (2.0.2)\n",
      "Requirement already satisfied: attrs>=19.2.0 in c:\\programdata\\anaconda3\\lib\\site-packages (from fiona>=1.8.21->geopandas) (22.1.0)\n",
      "Requirement already satisfied: certifi in c:\\programdata\\anaconda3\\lib\\site-packages (from fiona>=1.8.21->geopandas) (2023.7.22)\n",
      "Requirement already satisfied: click~=8.0 in c:\\programdata\\anaconda3\\lib\\site-packages (from fiona>=1.8.21->geopandas) (8.0.4)\n",
      "Requirement already satisfied: click-plugins>=1.0 in c:\\programdata\\anaconda3\\lib\\site-packages (from fiona>=1.8.21->geopandas) (1.1.1)\n",
      "Requirement already satisfied: cligj>=0.5 in c:\\programdata\\anaconda3\\lib\\site-packages (from fiona>=1.8.21->geopandas) (0.7.2)\n",
      "Requirement already satisfied: six in c:\\programdata\\anaconda3\\lib\\site-packages (from fiona>=1.8.21->geopandas) (1.16.0)\n",
      "Requirement already satisfied: setuptools in c:\\programdata\\anaconda3\\lib\\site-packages (from fiona>=1.8.21->geopandas) (68.0.0)\n",
      "Requirement already satisfied: python-dateutil>=2.8.2 in c:\\programdata\\anaconda3\\lib\\site-packages (from pandas>=1.4.0->geopandas) (2.8.2)\n",
      "Requirement already satisfied: pytz>=2020.1 in c:\\programdata\\anaconda3\\lib\\site-packages (from pandas>=1.4.0->geopandas) (2023.3.post1)\n",
      "Requirement already satisfied: tzdata>=2022.1 in c:\\programdata\\anaconda3\\lib\\site-packages (from pandas>=1.4.0->geopandas) (2023.3)\n",
      "Requirement already satisfied: numpy>=1.21.0 in c:\\programdata\\anaconda3\\lib\\site-packages (from pandas>=1.4.0->geopandas) (1.24.3)\n",
      "Requirement already satisfied: colorama in c:\\programdata\\anaconda3\\lib\\site-packages (from click~=8.0->fiona>=1.8.21->geopandas) (0.4.6)\n"
     ]
    }
   ],
   "source": [
    "pip install geopandas"
   ]
  },
  {
   "cell_type": "code",
   "execution_count": 2,
   "metadata": {},
   "outputs": [],
   "source": [
    "# import libraries\n",
    "import pandas as pd\n",
    "import geopandas as gpd\n",
    "\n",
    "# For working with requests\n",
    "import requests\n",
    "import json\n"
   ]
  },
  {
   "cell_type": "markdown",
   "metadata": {},
   "source": [
    "### Defining parameters for geocoding ###"
   ]
  },
  {
   "cell_type": "markdown",
   "metadata": {},
   "source": [
    "___1. (!!!) Insert your API key:___"
   ]
  },
  {
   "cell_type": "code",
   "execution_count": 1,
   "metadata": {},
   "outputs": [],
   "source": [
    "API_KEY = ###"
   ]
  },
  {
   "cell_type": "markdown",
   "metadata": {},
   "source": [
    "2. Trying with a sample address:"
   ]
  },
  {
   "cell_type": "code",
   "execution_count": 4,
   "metadata": {},
   "outputs": [],
   "source": [
    "sample_address = 'Москва, Волхонка 11'\n",
    "sample_address = sample_address.replace(' ', '+')\n",
    "url = f'https://geocode-maps.yandex.ru/1.x/?apikey={API_KEY}&geocode={sample_address}&format=json'"
   ]
  },
  {
   "cell_type": "markdown",
   "metadata": {},
   "source": [
    "3. Creating a get request"
   ]
  },
  {
   "cell_type": "code",
   "execution_count": 5,
   "metadata": {},
   "outputs": [],
   "source": [
    "response = requests.get(url)"
   ]
  },
  {
   "cell_type": "markdown",
   "metadata": {},
   "source": [
    "4. Checking response code"
   ]
  },
  {
   "cell_type": "code",
   "execution_count": 6,
   "metadata": {},
   "outputs": [
    {
     "name": "stdout",
     "output_type": "stream",
     "text": [
      "<Response [200]>\n"
     ]
    }
   ],
   "source": [
    "print(response)"
   ]
  },
  {
   "cell_type": "markdown",
   "metadata": {},
   "source": [
    "5. Saving response data to a variable and extracting coordinates"
   ]
  },
  {
   "cell_type": "code",
   "execution_count": 7,
   "metadata": {},
   "outputs": [],
   "source": [
    "data = response.json()\n",
    "coordinates = data['response']['GeoObjectCollection']['featureMember'][0]['GeoObject']['Point']['pos'].split()\n",
    "longitude, latitude = coordinates"
   ]
  },
  {
   "cell_type": "markdown",
   "metadata": {},
   "source": [
    "### Geocoding addresses from a csv file and saving them ###"
   ]
  },
  {
   "cell_type": "markdown",
   "metadata": {},
   "source": [
    "1. Reading csv"
   ]
  },
  {
   "cell_type": "code",
   "execution_count": 12,
   "metadata": {},
   "outputs": [],
   "source": [
    "df = pd.read_csv('./alex_schools.csv', sep = ',')"
   ]
  },
  {
   "cell_type": "markdown",
   "metadata": {},
   "source": [
    "2. Checking the data"
   ]
  },
  {
   "cell_type": "code",
   "execution_count": 13,
   "metadata": {},
   "outputs": [
    {
     "data": {
      "text/html": [
       "<div>\n",
       "<style scoped>\n",
       "    .dataframe tbody tr th:only-of-type {\n",
       "        vertical-align: middle;\n",
       "    }\n",
       "\n",
       "    .dataframe tbody tr th {\n",
       "        vertical-align: top;\n",
       "    }\n",
       "\n",
       "    .dataframe thead th {\n",
       "        text-align: right;\n",
       "    }\n",
       "</style>\n",
       "<table border=\"1\" class=\"dataframe\">\n",
       "  <thead>\n",
       "    <tr style=\"text-align: right;\">\n",
       "      <th></th>\n",
       "      <th>id</th>\n",
       "      <th>type</th>\n",
       "      <th>name</th>\n",
       "      <th>address</th>\n",
       "      <th>area</th>\n",
       "      <th>series</th>\n",
       "      <th>capacity</th>\n",
       "    </tr>\n",
       "  </thead>\n",
       "  <tbody>\n",
       "    <tr>\n",
       "      <th>0</th>\n",
       "      <td>1</td>\n",
       "      <td>детский сад</td>\n",
       "      <td>Школа № 1503. Дошкольное отделение</td>\n",
       "      <td>Москва, улица Константинова, 20, корп. 1</td>\n",
       "      <td>857</td>\n",
       "      <td>индивидуальный проект</td>\n",
       "      <td>NaN</td>\n",
       "    </tr>\n",
       "    <tr>\n",
       "      <th>1</th>\n",
       "      <td>2</td>\n",
       "      <td>детский сад</td>\n",
       "      <td>Школа № 1503, дошкольное отделение</td>\n",
       "      <td>Москва, улица Павла Корчагина, 12</td>\n",
       "      <td>1842</td>\n",
       "      <td>VI-49</td>\n",
       "      <td>NaN</td>\n",
       "    </tr>\n",
       "    <tr>\n",
       "      <th>2</th>\n",
       "      <td>3</td>\n",
       "      <td>детский сад</td>\n",
       "      <td>Школа № 1503. Дошкольное отделение</td>\n",
       "      <td>Москва, улица Космонавтов, 14, корп. 4</td>\n",
       "      <td>2167</td>\n",
       "      <td>2Мг-04-3</td>\n",
       "      <td>NaN</td>\n",
       "    </tr>\n",
       "    <tr>\n",
       "      <th>3</th>\n",
       "      <td>4</td>\n",
       "      <td>детский сад</td>\n",
       "      <td>Солнышко АНО ДОО Мир Детства</td>\n",
       "      <td>Москва, улица Кибальчича, 8, стр. 1</td>\n",
       "      <td>1244</td>\n",
       "      <td>VI-49</td>\n",
       "      <td>NaN</td>\n",
       "    </tr>\n",
       "    <tr>\n",
       "      <th>4</th>\n",
       "      <td>5</td>\n",
       "      <td>детский сад</td>\n",
       "      <td>Школа № 1503. Дошкольное отделение</td>\n",
       "      <td>Москва, улица Павла Корчагина, 1, стр. 1</td>\n",
       "      <td>2111</td>\n",
       "      <td>2Мг-04-3</td>\n",
       "      <td>NaN</td>\n",
       "    </tr>\n",
       "  </tbody>\n",
       "</table>\n",
       "</div>"
      ],
      "text/plain": [
       "   id         type                                name  \\\n",
       "0   1  детский сад  Школа № 1503. Дошкольное отделение   \n",
       "1   2  детский сад  Школа № 1503, дошкольное отделение   \n",
       "2   3  детский сад  Школа № 1503. Дошкольное отделение   \n",
       "3   4  детский сад        Солнышко АНО ДОО Мир Детства   \n",
       "4   5  детский сад  Школа № 1503. Дошкольное отделение   \n",
       "\n",
       "                                    address  area                 series  \\\n",
       "0  Москва, улица Константинова, 20, корп. 1   857  индивидуальный проект   \n",
       "1         Москва, улица Павла Корчагина, 12  1842                  VI-49   \n",
       "2    Москва, улица Космонавтов, 14, корп. 4  2167               2Мг-04-3   \n",
       "3       Москва, улица Кибальчича, 8, стр. 1  1244                  VI-49   \n",
       "4  Москва, улица Павла Корчагина, 1, стр. 1  2111               2Мг-04-3   \n",
       "\n",
       "   capacity  \n",
       "0       NaN  \n",
       "1       NaN  \n",
       "2       NaN  \n",
       "3       NaN  \n",
       "4       NaN  "
      ]
     },
     "execution_count": 13,
     "metadata": {},
     "output_type": "execute_result"
    }
   ],
   "source": [
    "df.head()"
   ]
  },
  {
   "cell_type": "markdown",
   "metadata": {},
   "source": [
    "3. Adding columns for coordinates"
   ]
  },
  {
   "cell_type": "code",
   "execution_count": 16,
   "metadata": {},
   "outputs": [],
   "source": [
    "df['longitude'] = ''\n",
    "df['latitude'] = ''"
   ]
  },
  {
   "cell_type": "markdown",
   "metadata": {},
   "source": [
    "4. Geocoding!"
   ]
  },
  {
   "cell_type": "code",
   "execution_count": 17,
   "metadata": {},
   "outputs": [],
   "source": [
    "for index, row in df.iterrows():\n",
    "    address = row['address']\n",
    "    url = f'https://geocode-maps.yandex.ru/1.x/?apikey={API_KEY}&geocode={address}&format=json'\n",
    "    try:\n",
    "        response = requests.get(url)\n",
    "        data = response.json()\n",
    "        coordinates = data['response']['GeoObjectCollection']['featureMember'][0]['GeoObject']['Point']['pos'].split()\n",
    "        longitude, latitude = coordinates\n",
    "        df.at[index, 'longitude'] = longitude\n",
    "        df.at[index, 'latitude'] = latitude\n",
    "    except Exception as e:\n",
    "        print(f\"Error with {address}: {e}\")\n"
   ]
  },
  {
   "cell_type": "markdown",
   "metadata": {},
   "source": [
    "5. Saving the data into csv"
   ]
  },
  {
   "cell_type": "code",
   "execution_count": 18,
   "metadata": {},
   "outputs": [],
   "source": [
    "df.to_csv('./alex_schools_yandex_geocoded.csv', index=False, index_label=False, encoding='utf-8')"
   ]
  },
  {
   "cell_type": "markdown",
   "metadata": {},
   "source": [
    "6. Creating Geopandas object"
   ]
  },
  {
   "cell_type": "code",
   "execution_count": 19,
   "metadata": {},
   "outputs": [],
   "source": [
    "gdf = gpd.GeoDataFrame(df, geometry=gpd.points_from_xy(df.longitude, df.latitude), crs=\"EPSG:4326\")\n"
   ]
  },
  {
   "cell_type": "markdown",
   "metadata": {},
   "source": [
    "7. Exploring the data"
   ]
  },
  {
   "cell_type": "code",
   "execution_count": 20,
   "metadata": {},
   "outputs": [
    {
     "data": {
      "text/html": [
       "<div style=\"width:100%;\"><div style=\"position:relative;width:100%;height:0;padding-bottom:60%;\"><span style=\"color:#565656\">Make this Notebook Trusted to load map: File -> Trust Notebook</span><iframe srcdoc=\"&lt;!DOCTYPE html&gt;\n",
       "&lt;html&gt;\n",
       "&lt;head&gt;\n",
       "    \n",
       "    &lt;meta http-equiv=&quot;content-type&quot; content=&quot;text/html; charset=UTF-8&quot; /&gt;\n",
       "    \n",
       "        &lt;script&gt;\n",
       "            L_NO_TOUCH = false;\n",
       "            L_DISABLE_3D = false;\n",
       "        &lt;/script&gt;\n",
       "    \n",
       "    &lt;style&gt;html, body {width: 100%;height: 100%;margin: 0;padding: 0;}&lt;/style&gt;\n",
       "    &lt;style&gt;#map {position:absolute;top:0;bottom:0;right:0;left:0;}&lt;/style&gt;\n",
       "    &lt;script src=&quot;https://cdn.jsdelivr.net/npm/leaflet@1.9.3/dist/leaflet.js&quot;&gt;&lt;/script&gt;\n",
       "    &lt;script src=&quot;https://code.jquery.com/jquery-3.7.1.min.js&quot;&gt;&lt;/script&gt;\n",
       "    &lt;script src=&quot;https://cdn.jsdelivr.net/npm/bootstrap@5.2.2/dist/js/bootstrap.bundle.min.js&quot;&gt;&lt;/script&gt;\n",
       "    &lt;script src=&quot;https://cdnjs.cloudflare.com/ajax/libs/Leaflet.awesome-markers/2.0.2/leaflet.awesome-markers.js&quot;&gt;&lt;/script&gt;\n",
       "    &lt;link rel=&quot;stylesheet&quot; href=&quot;https://cdn.jsdelivr.net/npm/leaflet@1.9.3/dist/leaflet.css&quot;/&gt;\n",
       "    &lt;link rel=&quot;stylesheet&quot; href=&quot;https://cdn.jsdelivr.net/npm/bootstrap@5.2.2/dist/css/bootstrap.min.css&quot;/&gt;\n",
       "    &lt;link rel=&quot;stylesheet&quot; href=&quot;https://netdna.bootstrapcdn.com/bootstrap/3.0.0/css/bootstrap.min.css&quot;/&gt;\n",
       "    &lt;link rel=&quot;stylesheet&quot; href=&quot;https://cdn.jsdelivr.net/npm/@fortawesome/fontawesome-free@6.2.0/css/all.min.css&quot;/&gt;\n",
       "    &lt;link rel=&quot;stylesheet&quot; href=&quot;https://cdnjs.cloudflare.com/ajax/libs/Leaflet.awesome-markers/2.0.2/leaflet.awesome-markers.css&quot;/&gt;\n",
       "    &lt;link rel=&quot;stylesheet&quot; href=&quot;https://cdn.jsdelivr.net/gh/python-visualization/folium/folium/templates/leaflet.awesome.rotate.min.css&quot;/&gt;\n",
       "    \n",
       "            &lt;meta name=&quot;viewport&quot; content=&quot;width=device-width,\n",
       "                initial-scale=1.0, maximum-scale=1.0, user-scalable=no&quot; /&gt;\n",
       "            &lt;style&gt;\n",
       "                #map_bf0d145d453a1e52856e9b19db0f926c {\n",
       "                    position: relative;\n",
       "                    width: 100.0%;\n",
       "                    height: 100.0%;\n",
       "                    left: 0.0%;\n",
       "                    top: 0.0%;\n",
       "                }\n",
       "                .leaflet-container { font-size: 1rem; }\n",
       "            &lt;/style&gt;\n",
       "        \n",
       "    \n",
       "                    &lt;style&gt;\n",
       "                        .foliumtooltip {\n",
       "                            \n",
       "                        }\n",
       "                       .foliumtooltip table{\n",
       "                            margin: auto;\n",
       "                        }\n",
       "                        .foliumtooltip tr{\n",
       "                            text-align: left;\n",
       "                        }\n",
       "                        .foliumtooltip th{\n",
       "                            padding: 2px; padding-right: 8px;\n",
       "                        }\n",
       "                    &lt;/style&gt;\n",
       "            \n",
       "&lt;/head&gt;\n",
       "&lt;body&gt;\n",
       "    \n",
       "    \n",
       "            &lt;div class=&quot;folium-map&quot; id=&quot;map_bf0d145d453a1e52856e9b19db0f926c&quot; &gt;&lt;/div&gt;\n",
       "        \n",
       "&lt;/body&gt;\n",
       "&lt;script&gt;\n",
       "    \n",
       "    \n",
       "            var map_bf0d145d453a1e52856e9b19db0f926c = L.map(\n",
       "                &quot;map_bf0d145d453a1e52856e9b19db0f926c&quot;,\n",
       "                {\n",
       "                    center: [55.818495, 37.656757],\n",
       "                    crs: L.CRS.EPSG3857,\n",
       "                    zoom: 10,\n",
       "                    zoomControl: true,\n",
       "                    preferCanvas: false,\n",
       "                }\n",
       "            );\n",
       "            L.control.scale().addTo(map_bf0d145d453a1e52856e9b19db0f926c);\n",
       "\n",
       "            \n",
       "\n",
       "        \n",
       "    \n",
       "            var tile_layer_55c479bba8bc2df94835be77ded2a8ca = L.tileLayer(\n",
       "                &quot;https://tile.openstreetmap.org/{z}/{x}/{y}.png&quot;,\n",
       "                {&quot;attribution&quot;: &quot;\\u0026copy; \\u003ca href=\\&quot;https://www.openstreetmap.org/copyright\\&quot;\\u003eOpenStreetMap\\u003c/a\\u003e contributors&quot;, &quot;detectRetina&quot;: false, &quot;maxNativeZoom&quot;: 19, &quot;maxZoom&quot;: 19, &quot;minZoom&quot;: 0, &quot;noWrap&quot;: false, &quot;opacity&quot;: 1, &quot;subdomains&quot;: &quot;abc&quot;, &quot;tms&quot;: false}\n",
       "            );\n",
       "        \n",
       "    \n",
       "            tile_layer_55c479bba8bc2df94835be77ded2a8ca.addTo(map_bf0d145d453a1e52856e9b19db0f926c);\n",
       "        \n",
       "    \n",
       "            map_bf0d145d453a1e52856e9b19db0f926c.fitBounds(\n",
       "                [[55.813121, 37.650711], [55.823869, 37.662803]],\n",
       "                {}\n",
       "            );\n",
       "        \n",
       "    \n",
       "        function geo_json_2a3c7e3eea471e5fa30799056741836f_styler(feature) {\n",
       "            switch(feature.id) {\n",
       "                default:\n",
       "                    return {&quot;fillOpacity&quot;: 0.5, &quot;weight&quot;: 2};\n",
       "            }\n",
       "        }\n",
       "        function geo_json_2a3c7e3eea471e5fa30799056741836f_highlighter(feature) {\n",
       "            switch(feature.id) {\n",
       "                default:\n",
       "                    return {&quot;fillOpacity&quot;: 0.75};\n",
       "            }\n",
       "        }\n",
       "        function geo_json_2a3c7e3eea471e5fa30799056741836f_pointToLayer(feature, latlng) {\n",
       "            var opts = {&quot;bubblingMouseEvents&quot;: true, &quot;color&quot;: &quot;#3388ff&quot;, &quot;dashArray&quot;: null, &quot;dashOffset&quot;: null, &quot;fill&quot;: true, &quot;fillColor&quot;: &quot;#3388ff&quot;, &quot;fillOpacity&quot;: 0.2, &quot;fillRule&quot;: &quot;evenodd&quot;, &quot;lineCap&quot;: &quot;round&quot;, &quot;lineJoin&quot;: &quot;round&quot;, &quot;opacity&quot;: 1.0, &quot;radius&quot;: 2, &quot;stroke&quot;: true, &quot;weight&quot;: 3};\n",
       "            \n",
       "            let style = geo_json_2a3c7e3eea471e5fa30799056741836f_styler(feature)\n",
       "            Object.assign(opts, style)\n",
       "            \n",
       "            return new L.CircleMarker(latlng, opts)\n",
       "        }\n",
       "\n",
       "        function geo_json_2a3c7e3eea471e5fa30799056741836f_onEachFeature(feature, layer) {\n",
       "            layer.on({\n",
       "                mouseout: function(e) {\n",
       "                    if(typeof e.target.setStyle === &quot;function&quot;){\n",
       "                        geo_json_2a3c7e3eea471e5fa30799056741836f.resetStyle(e.target);\n",
       "                    }\n",
       "                },\n",
       "                mouseover: function(e) {\n",
       "                    if(typeof e.target.setStyle === &quot;function&quot;){\n",
       "                        const highlightStyle = geo_json_2a3c7e3eea471e5fa30799056741836f_highlighter(e.target.feature)\n",
       "                        e.target.setStyle(highlightStyle);\n",
       "                    }\n",
       "                },\n",
       "            });\n",
       "        };\n",
       "        var geo_json_2a3c7e3eea471e5fa30799056741836f = L.geoJson(null, {\n",
       "                onEachFeature: geo_json_2a3c7e3eea471e5fa30799056741836f_onEachFeature,\n",
       "            \n",
       "                style: geo_json_2a3c7e3eea471e5fa30799056741836f_styler,\n",
       "                pointToLayer: geo_json_2a3c7e3eea471e5fa30799056741836f_pointToLayer,\n",
       "        });\n",
       "\n",
       "        function geo_json_2a3c7e3eea471e5fa30799056741836f_add (data) {\n",
       "            geo_json_2a3c7e3eea471e5fa30799056741836f\n",
       "                .addData(data);\n",
       "        }\n",
       "            geo_json_2a3c7e3eea471e5fa30799056741836f_add({&quot;bbox&quot;: [37.650711, 55.813121, 37.662803, 55.823869], &quot;features&quot;: [{&quot;bbox&quot;: [37.65832, 55.817264, 37.65832, 55.817264], &quot;geometry&quot;: {&quot;coordinates&quot;: [37.65832, 55.817264], &quot;type&quot;: &quot;Point&quot;}, &quot;id&quot;: &quot;0&quot;, &quot;properties&quot;: {&quot;address&quot;: &quot;\\u041c\\u043e\\u0441\\u043a\\u0432\\u0430, \\u0443\\u043b\\u0438\\u0446\\u0430 \\u041a\\u043e\\u043d\\u0441\\u0442\\u0430\\u043d\\u0442\\u0438\\u043d\\u043e\\u0432\\u0430, 20, \\u043a\\u043e\\u0440\\u043f. 1&quot;, &quot;area&quot;: 857, &quot;capacity&quot;: null, &quot;id&quot;: 1, &quot;latitude&quot;: &quot;55.817264&quot;, &quot;longitude&quot;: &quot;37.65832&quot;, &quot;name&quot;: &quot;\\u0428\\u043a\\u043e\\u043b\\u0430 \\u2116 1503. \\u0414\\u043e\\u0448\\u043a\\u043e\\u043b\\u044c\\u043d\\u043e\\u0435 \\u043e\\u0442\\u0434\\u0435\\u043b\\u0435\\u043d\\u0438\\u0435&quot;, &quot;series&quot;: &quot;\\u0438\\u043d\\u0434\\u0438\\u0432\\u0438\\u0434\\u0443\\u0430\\u043b\\u044c\\u043d\\u044b\\u0439 \\u043f\\u0440\\u043e\\u0435\\u043a\\u0442&quot;, &quot;type&quot;: &quot;\\u0434\\u0435\\u0442\\u0441\\u043a\\u0438\\u0439 \\u0441\\u0430\\u0434&quot;}, &quot;type&quot;: &quot;Feature&quot;}, {&quot;bbox&quot;: [37.660341, 55.815777, 37.660341, 55.815777], &quot;geometry&quot;: {&quot;coordinates&quot;: [37.660341, 55.815777], &quot;type&quot;: &quot;Point&quot;}, &quot;id&quot;: &quot;1&quot;, &quot;properties&quot;: {&quot;address&quot;: &quot;\\u041c\\u043e\\u0441\\u043a\\u0432\\u0430, \\u0443\\u043b\\u0438\\u0446\\u0430 \\u041f\\u0430\\u0432\\u043b\\u0430 \\u041a\\u043e\\u0440\\u0447\\u0430\\u0433\\u0438\\u043d\\u0430, 12&quot;, &quot;area&quot;: 1842, &quot;capacity&quot;: null, &quot;id&quot;: 2, &quot;latitude&quot;: &quot;55.815777&quot;, &quot;longitude&quot;: &quot;37.660341&quot;, &quot;name&quot;: &quot;\\u0428\\u043a\\u043e\\u043b\\u0430 \\u2116 1503, \\u0434\\u043e\\u0448\\u043a\\u043e\\u043b\\u044c\\u043d\\u043e\\u0435 \\u043e\\u0442\\u0434\\u0435\\u043b\\u0435\\u043d\\u0438\\u0435&quot;, &quot;series&quot;: &quot;VI-49&quot;, &quot;type&quot;: &quot;\\u0434\\u0435\\u0442\\u0441\\u043a\\u0438\\u0439 \\u0441\\u0430\\u0434&quot;}, &quot;type&quot;: &quot;Feature&quot;}, {&quot;bbox&quot;: [37.654574, 55.819904, 37.654574, 55.819904], &quot;geometry&quot;: {&quot;coordinates&quot;: [37.654574, 55.819904], &quot;type&quot;: &quot;Point&quot;}, &quot;id&quot;: &quot;2&quot;, &quot;properties&quot;: {&quot;address&quot;: &quot;\\u041c\\u043e\\u0441\\u043a\\u0432\\u0430, \\u0443\\u043b\\u0438\\u0446\\u0430 \\u041a\\u043e\\u0441\\u043c\\u043e\\u043d\\u0430\\u0432\\u0442\\u043e\\u0432, 14, \\u043a\\u043e\\u0440\\u043f. 4&quot;, &quot;area&quot;: 2167, &quot;capacity&quot;: null, &quot;id&quot;: 3, &quot;latitude&quot;: &quot;55.819904&quot;, &quot;longitude&quot;: &quot;37.654574&quot;, &quot;name&quot;: &quot;\\u0428\\u043a\\u043e\\u043b\\u0430 \\u2116 1503. \\u0414\\u043e\\u0448\\u043a\\u043e\\u043b\\u044c\\u043d\\u043e\\u0435 \\u043e\\u0442\\u0434\\u0435\\u043b\\u0435\\u043d\\u0438\\u0435&quot;, &quot;series&quot;: &quot;2\\u041c\\u0433-04-3&quot;, &quot;type&quot;: &quot;\\u0434\\u0435\\u0442\\u0441\\u043a\\u0438\\u0439 \\u0441\\u0430\\u0434&quot;}, &quot;type&quot;: &quot;Feature&quot;}, {&quot;bbox&quot;: [37.650711, 55.814957, 37.650711, 55.814957], &quot;geometry&quot;: {&quot;coordinates&quot;: [37.650711, 55.814957], &quot;type&quot;: &quot;Point&quot;}, &quot;id&quot;: &quot;3&quot;, &quot;properties&quot;: {&quot;address&quot;: &quot;\\u041c\\u043e\\u0441\\u043a\\u0432\\u0430, \\u0443\\u043b\\u0438\\u0446\\u0430 \\u041a\\u0438\\u0431\\u0430\\u043b\\u044c\\u0447\\u0438\\u0447\\u0430, 8, \\u0441\\u0442\\u0440. 1&quot;, &quot;area&quot;: 1244, &quot;capacity&quot;: null, &quot;id&quot;: 4, &quot;latitude&quot;: &quot;55.814957&quot;, &quot;longitude&quot;: &quot;37.650711&quot;, &quot;name&quot;: &quot;\\u0421\\u043e\\u043b\\u043d\\u044b\\u0448\\u043a\\u043e \\u0410\\u041d\\u041e \\u0414\\u041e\\u041e \\u041c\\u0438\\u0440 \\u0414\\u0435\\u0442\\u0441\\u0442\\u0432\\u0430&quot;, &quot;series&quot;: &quot;VI-49&quot;, &quot;type&quot;: &quot;\\u0434\\u0435\\u0442\\u0441\\u043a\\u0438\\u0439 \\u0441\\u0430\\u0434&quot;}, &quot;type&quot;: &quot;Feature&quot;}, {&quot;bbox&quot;: [37.654448, 55.813642, 37.654448, 55.813642], &quot;geometry&quot;: {&quot;coordinates&quot;: [37.654448, 55.813642], &quot;type&quot;: &quot;Point&quot;}, &quot;id&quot;: &quot;4&quot;, &quot;properties&quot;: {&quot;address&quot;: &quot;\\u041c\\u043e\\u0441\\u043a\\u0432\\u0430, \\u0443\\u043b\\u0438\\u0446\\u0430 \\u041f\\u0430\\u0432\\u043b\\u0430 \\u041a\\u043e\\u0440\\u0447\\u0430\\u0433\\u0438\\u043d\\u0430, 1, \\u0441\\u0442\\u0440. 1&quot;, &quot;area&quot;: 2111, &quot;capacity&quot;: null, &quot;id&quot;: 5, &quot;latitude&quot;: &quot;55.813642&quot;, &quot;longitude&quot;: &quot;37.654448&quot;, &quot;name&quot;: &quot;\\u0428\\u043a\\u043e\\u043b\\u0430 \\u2116 1503. \\u0414\\u043e\\u0448\\u043a\\u043e\\u043b\\u044c\\u043d\\u043e\\u0435 \\u043e\\u0442\\u0434\\u0435\\u043b\\u0435\\u043d\\u0438\\u0435&quot;, &quot;series&quot;: &quot;2\\u041c\\u0433-04-3&quot;, &quot;type&quot;: &quot;\\u0434\\u0435\\u0442\\u0441\\u043a\\u0438\\u0439 \\u0441\\u0430\\u0434&quot;}, &quot;type&quot;: &quot;Feature&quot;}, {&quot;bbox&quot;: [37.662515, 55.823869, 37.662515, 55.823869], &quot;geometry&quot;: {&quot;coordinates&quot;: [37.662515, 55.823869], &quot;type&quot;: &quot;Point&quot;}, &quot;id&quot;: &quot;5&quot;, &quot;properties&quot;: {&quot;address&quot;: &quot;\\u041c\\u043e\\u0441\\u043a\\u0432\\u0430, \\u0443\\u043b\\u0438\\u0446\\u0430 \\u041a\\u0430\\u0441\\u0430\\u0442\\u043a\\u0438\\u043d\\u0430, 16&quot;, &quot;area&quot;: 1413, &quot;capacity&quot;: null, &quot;id&quot;: 6, &quot;latitude&quot;: &quot;55.823869&quot;, &quot;longitude&quot;: &quot;37.662515&quot;, &quot;name&quot;: &quot;\\u0428\\u043a\\u043e\\u043b\\u0430 \\u2116 293 \\u0438\\u043c\\u0435\\u043d\\u0438 \\u0410. \\u0422. \\u0422\\u0432\\u0430\\u0440\\u0434\\u043e\\u0432\\u0441\\u043a\\u043e\\u0433\\u043e, \\u0434\\u043e\\u0448\\u043a\\u043e\\u043b\\u044c\\u043d\\u044b\\u0439 \\u043a\\u043e\\u0440\\u043f\\u0443\\u0441&quot;, &quot;series&quot;: &quot;II-29 (\\u0436\\u0438\\u043b\\u043e\\u0439 \\u0434\\u043e\\u043c)&quot;, &quot;type&quot;: &quot;\\u0434\\u0435\\u0442\\u0441\\u043a\\u0438\\u0439 \\u0441\\u0430\\u0434&quot;}, &quot;type&quot;: &quot;Feature&quot;}, {&quot;bbox&quot;: [37.659757, 55.818584, 37.659757, 55.818584], &quot;geometry&quot;: {&quot;coordinates&quot;: [37.659757, 55.818584], &quot;type&quot;: &quot;Point&quot;}, &quot;id&quot;: &quot;6&quot;, &quot;properties&quot;: {&quot;address&quot;: &quot;\\u041c\\u043e\\u0441\\u043a\\u0432\\u0430, \\u0443\\u043b\\u0438\\u0446\\u0430 \\u041f\\u0430\\u0432\\u043b\\u0430 \\u041a\\u043e\\u0440\\u0447\\u0430\\u0433\\u0438\\u043d\\u0430, 13, \\u0441\\u0442\\u0440. 1&quot;, &quot;area&quot;: 5166, &quot;capacity&quot;: null, &quot;id&quot;: 7, &quot;latitude&quot;: &quot;55.818584&quot;, &quot;longitude&quot;: &quot;37.659757&quot;, &quot;name&quot;: &quot;\\u0428\\u043a\\u043e\\u043b\\u0430 \\u2116 1503, \\u043a\\u043e\\u0440\\u043f\\u0443\\u0441 \\u043e\\u0441\\u043d\\u043e\\u0432\\u043d\\u043e\\u0439 \\u0448\\u043a\\u043e\\u043b\\u044b&quot;, &quot;series&quot;: &quot;\\u041c\\u042e&quot;, &quot;type&quot;: &quot;\\u0448\\u043a\\u043e\\u043b\\u0430&quot;}, &quot;type&quot;: &quot;Feature&quot;}, {&quot;bbox&quot;: [37.662803, 55.818012, 37.662803, 55.818012], &quot;geometry&quot;: {&quot;coordinates&quot;: [37.662803, 55.818012], &quot;type&quot;: &quot;Point&quot;}, &quot;id&quot;: &quot;7&quot;, &quot;properties&quot;: {&quot;address&quot;: &quot;\\u041c\\u043e\\u0441\\u043a\\u0432\\u0430, \\u0443\\u043b\\u0438\\u0446\\u0430 \\u041f\\u0430\\u0432\\u043b\\u0430 \\u041a\\u043e\\u0440\\u0447\\u0430\\u0433\\u0438\\u043d\\u0430, 18&quot;, &quot;area&quot;: 4659, &quot;capacity&quot;: null, &quot;id&quot;: 8, &quot;latitude&quot;: &quot;55.818012&quot;, &quot;longitude&quot;: &quot;37.662803&quot;, &quot;name&quot;: &quot;\\u0428\\u043a\\u043e\\u043b\\u0430 \\u2116 1503, \\u043a\\u043e\\u0440\\u043f\\u0443\\u0441 \\u0441\\u0442\\u0430\\u0440\\u0448\\u0435\\u0439 \\u0448\\u043a\\u043e\\u043b\\u044b&quot;, &quot;series&quot;: &quot;\\u0438\\u043d\\u0434\\u0438\\u0432\\u0438\\u0434\\u0443\\u0430\\u043b\\u044c\\u043d\\u044b\\u0439 \\u043f\\u0440\\u043e\\u0435\\u043a\\u0442&quot;, &quot;type&quot;: &quot;\\u0448\\u043a\\u043e\\u043b\\u0430&quot;}, &quot;type&quot;: &quot;Feature&quot;}, {&quot;bbox&quot;: [37.655373, 55.813121, 37.655373, 55.813121], &quot;geometry&quot;: {&quot;coordinates&quot;: [37.655373, 55.813121], &quot;type&quot;: &quot;Point&quot;}, &quot;id&quot;: &quot;8&quot;, &quot;properties&quot;: {&quot;address&quot;: &quot;\\u0443\\u043b\\u0438\\u0446\\u0430 \\u041f\\u0430\\u0432\\u043b\\u0430 \\u041a\\u043e\\u0440\\u0447\\u0430\\u0433\\u0438\\u043d\\u0430, 1\\u0410&quot;, &quot;area&quot;: 4374, &quot;capacity&quot;: null, &quot;id&quot;: 9, &quot;latitude&quot;: &quot;55.813121&quot;, &quot;longitude&quot;: &quot;37.655373&quot;, &quot;name&quot;: &quot;\\u0428\\u043a\\u043e\\u043b\\u0430 \\u2116 1503, \\u043d\\u0430\\u0447\\u0430\\u043b\\u044c\\u043d\\u0430\\u044f \\u0448\\u043a\\u043e\\u043b\\u0430&quot;, &quot;series&quot;: &quot;65-426/I&quot;, &quot;type&quot;: &quot;\\u0448\\u043a\\u043e\\u043b\\u0430&quot;}, &quot;type&quot;: &quot;Feature&quot;}, {&quot;bbox&quot;: [37.652939, 55.82176, 37.652939, 55.82176], &quot;geometry&quot;: {&quot;coordinates&quot;: [37.652939, 55.82176], &quot;type&quot;: &quot;Point&quot;}, &quot;id&quot;: &quot;9&quot;, &quot;properties&quot;: {&quot;address&quot;: &quot;\\u041c\\u043e\\u0441\\u043a\\u0432\\u0430, \\u0443\\u043b\\u0438\\u0446\\u0430 \\u041a\\u043e\\u0441\\u043c\\u043e\\u043d\\u0430\\u0432\\u0442\\u043e\\u0432, 5&quot;, &quot;area&quot;: 3883, &quot;capacity&quot;: null, &quot;id&quot;: 10, &quot;latitude&quot;: &quot;55.82176&quot;, &quot;longitude&quot;: &quot;37.652939&quot;, &quot;name&quot;: &quot;\\u0428\\u043a\\u043e\\u043b\\u0430 \\u2116 293 \\u0438\\u043c\\u0435\\u043d\\u0438 \\u0410. \\u0422. \\u0422\\u0432\\u0430\\u0440\\u0434\\u043e\\u0432\\u0441\\u043a\\u043e\\u0433\\u043e, \\u0448\\u043a\\u043e\\u043b\\u044c\\u043d\\u044b\\u0439 \\u043a\\u043e\\u0440\\u043f\\u0443\\u0441&quot;, &quot;series&quot;: &quot;\\u041c\\u042e&quot;, &quot;type&quot;: &quot;\\u0448\\u043a\\u043e\\u043b\\u0430&quot;}, &quot;type&quot;: &quot;Feature&quot;}], &quot;type&quot;: &quot;FeatureCollection&quot;});\n",
       "\n",
       "        \n",
       "    \n",
       "    geo_json_2a3c7e3eea471e5fa30799056741836f.bindTooltip(\n",
       "    function(layer){\n",
       "    let div = L.DomUtil.create(&#x27;div&#x27;);\n",
       "    \n",
       "    let handleObject = feature=&gt;typeof(feature)==&#x27;object&#x27; ? JSON.stringify(feature) : feature;\n",
       "    let fields = [&quot;id&quot;, &quot;type&quot;, &quot;name&quot;, &quot;address&quot;, &quot;area&quot;, &quot;series&quot;, &quot;capacity&quot;, &quot;longitude&quot;, &quot;latitude&quot;];\n",
       "    let aliases = [&quot;id&quot;, &quot;type&quot;, &quot;name&quot;, &quot;address&quot;, &quot;area&quot;, &quot;series&quot;, &quot;capacity&quot;, &quot;longitude&quot;, &quot;latitude&quot;];\n",
       "    let table = &#x27;&lt;table&gt;&#x27; +\n",
       "        String(\n",
       "        fields.map(\n",
       "        (v,i)=&gt;\n",
       "        `&lt;tr&gt;\n",
       "            &lt;th&gt;${aliases[i]}&lt;/th&gt;\n",
       "            \n",
       "            &lt;td&gt;${handleObject(layer.feature.properties[v])}&lt;/td&gt;\n",
       "        &lt;/tr&gt;`).join(&#x27;&#x27;))\n",
       "    +&#x27;&lt;/table&gt;&#x27;;\n",
       "    div.innerHTML=table;\n",
       "    \n",
       "    return div\n",
       "    }\n",
       "    ,{&quot;className&quot;: &quot;foliumtooltip&quot;, &quot;sticky&quot;: true});\n",
       "                     \n",
       "    \n",
       "            geo_json_2a3c7e3eea471e5fa30799056741836f.addTo(map_bf0d145d453a1e52856e9b19db0f926c);\n",
       "        \n",
       "&lt;/script&gt;\n",
       "&lt;/html&gt;\" style=\"position:absolute;width:100%;height:100%;left:0;top:0;border:none !important;\" allowfullscreen webkitallowfullscreen mozallowfullscreen></iframe></div></div>"
      ],
      "text/plain": [
       "<folium.folium.Map at 0x201fab9ea90>"
      ]
     },
     "execution_count": 20,
     "metadata": {},
     "output_type": "execute_result"
    }
   ],
   "source": [
    "import folium\n",
    "gdf.explore()"
   ]
  },
  {
   "cell_type": "markdown",
   "metadata": {},
   "source": [
    "8. Saving the data into Geopackage"
   ]
  },
  {
   "cell_type": "code",
   "execution_count": 21,
   "metadata": {},
   "outputs": [],
   "source": [
    "gdf.to_file('alex_schools.gpkg', driver='GPKG', layer='alex_schools')"
   ]
  }
 ],
 "metadata": {
  "kernelspec": {
   "display_name": "base",
   "language": "python",
   "name": "python3"
  },
  "language_info": {
   "codemirror_mode": {
    "name": "ipython",
    "version": 3
   },
   "file_extension": ".py",
   "mimetype": "text/x-python",
   "name": "python",
   "nbconvert_exporter": "python",
   "pygments_lexer": "ipython3",
   "version": "3.11.5"
  }
 },
 "nbformat": 4,
 "nbformat_minor": 2
}
